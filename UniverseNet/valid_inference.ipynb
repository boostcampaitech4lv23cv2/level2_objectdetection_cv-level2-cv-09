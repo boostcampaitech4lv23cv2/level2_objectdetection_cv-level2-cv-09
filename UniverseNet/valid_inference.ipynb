{
 "cells": [
  {
   "cell_type": "code",
   "execution_count": 1,
   "id": "3fd75793",
   "metadata": {},
   "outputs": [
    {
     "name": "stderr",
     "output_type": "stream",
     "text": [
      "/opt/conda/envs/detection/lib/python3.7/site-packages/mmcv/__init__.py:21: UserWarning: On January 1, 2023, MMCV will release v2.0.0, in which it will remove components related to the training process and add a data transformation module. In addition, it will rename the package names mmcv to mmcv-lite and mmcv-full to mmcv. See https://github.com/open-mmlab/mmcv/blob/master/docs/en/compatibility.md for more details.\n",
      "  'On January 1, 2023, MMCV will release v2.0.0, in which it will remove '\n"
     ]
    }
   ],
   "source": [
    "import mmcv\n",
    "from mmcv import Config\n",
    "from mmdet.datasets import (build_dataloader, build_dataset,\n",
    "                            replace_ImageToTensor)\n",
    "from mmdet.models import build_detector\n",
    "from mmdet.apis import single_gpu_test\n",
    "from mmcv.runner import load_checkpoint\n",
    "import os\n",
    "from mmcv.parallel import MMDataParallel\n",
    "import pandas as pd\n",
    "from pandas import DataFrame\n",
    "from pycocotools.coco import COCO\n",
    "import numpy as np"
   ]
  },
  {
   "cell_type": "code",
   "execution_count": 2,
   "id": "edda58ea",
   "metadata": {},
   "outputs": [],
   "source": [
    "classes = (\"General trash\", \"Paper\", \"Paper pack\", \"Metal\", \"Glass\", \n",
    "           \"Plastic\", \"Styrofoam\", \"Plastic bag\", \"Battery\", \"Clothing\")\n",
    "\n",
    "# config file 들고오기\n",
    "cfg = Config.fromfile(\"./configs/universenet/universenet101_2008d_fp16_4x4_mstrain_480_960_20e_coco.py\")\n",
    "\n",
    "root='../../dataset/'\n",
    "\n",
    "epoch = \"latest\"\n",
    "\n",
    "# dataset config 수정\n",
    "cfg.data.test.classes = classes\n",
    "cfg.data.test.img_prefix = root\n",
    "cfg.data.test.ann_file = root + 'val_split.json'\n",
    "# cfg.data.test.pipeline[1]['img_scale'] = (512,512) # Resize\n",
    "cfg.data.test.test_mode = True\n",
    "\n",
    "cfg.data.samples_per_gpu = 4\n",
    "\n",
    "cfg.seed=2021\n",
    "cfg.gpu_ids = [1]\n",
    "cfg.work_dir = './workdir/universenet101_2008d_fp16_4x4_mstrain_480_960_20e_coco'\n",
    "\n",
    "# cfg.model.roi_head.bbox_head.num_classes = 10\n",
    "\n",
    "cfg.optimizer_config.grad_clip = dict(max_norm=35, norm_type=2)\n",
    "cfg.model.train_cfg = None"
   ]
  },
  {
   "cell_type": "code",
   "execution_count": 3,
   "id": "b086a8cf",
   "metadata": {},
   "outputs": [
    {
     "name": "stdout",
     "output_type": "stream",
     "text": [
      "loading annotations into memory...\n",
      "Done (t=0.02s)\n",
      "creating index...\n",
      "index created!\n"
     ]
    }
   ],
   "source": [
    "# build dataset & dataloader\n",
    "dataset = build_dataset(cfg.data.test)\n",
    "data_loader = build_dataloader(\n",
    "        dataset,\n",
    "        samples_per_gpu=1,\n",
    "        workers_per_gpu=cfg.data.workers_per_gpu,\n",
    "        dist=False,\n",
    "        shuffle=False)"
   ]
  },
  {
   "cell_type": "code",
   "execution_count": 4,
   "id": "83b3eae6",
   "metadata": {},
   "outputs": [
    {
     "name": "stderr",
     "output_type": "stream",
     "text": [
      "/opt/ml/level2_objectdetection_cv-level2-cv-09/UniverseNet/mmdet/models/dense_heads/anchor_head.py:116: UserWarning: DeprecationWarning: `num_anchors` is deprecated, for consistency or also use `num_base_priors` instead\n",
      "  warnings.warn('DeprecationWarning: `num_anchors` is deprecated, '\n"
     ]
    },
    {
     "name": "stdout",
     "output_type": "stream",
     "text": [
      "load checkpoint from local path: ./workdir/universenet101_2008d_fp16_4x4_mstrain_480_960_20e_coco/latest.pth\n"
     ]
    },
    {
     "name": "stderr",
     "output_type": "stream",
     "text": [
      "2022-12-01 09:51:36,724 - root - INFO - DeformConv2dPack backbone.layer2.0.convs.0 is upgraded to version 2.\n",
      "2022-12-01 09:51:36,726 - root - INFO - DeformConv2dPack backbone.layer2.0.convs.1 is upgraded to version 2.\n",
      "2022-12-01 09:51:36,728 - root - INFO - DeformConv2dPack backbone.layer2.0.convs.2 is upgraded to version 2.\n",
      "2022-12-01 09:51:36,732 - root - INFO - DeformConv2dPack backbone.layer2.1.convs.0 is upgraded to version 2.\n",
      "2022-12-01 09:51:36,733 - root - INFO - DeformConv2dPack backbone.layer2.1.convs.1 is upgraded to version 2.\n",
      "2022-12-01 09:51:36,734 - root - INFO - DeformConv2dPack backbone.layer2.1.convs.2 is upgraded to version 2.\n",
      "2022-12-01 09:51:36,739 - root - INFO - DeformConv2dPack backbone.layer2.2.convs.0 is upgraded to version 2.\n",
      "2022-12-01 09:51:36,741 - root - INFO - DeformConv2dPack backbone.layer2.2.convs.1 is upgraded to version 2.\n",
      "2022-12-01 09:51:36,742 - root - INFO - DeformConv2dPack backbone.layer2.2.convs.2 is upgraded to version 2.\n",
      "2022-12-01 09:51:36,746 - root - INFO - DeformConv2dPack backbone.layer2.3.convs.0 is upgraded to version 2.\n",
      "2022-12-01 09:51:36,747 - root - INFO - DeformConv2dPack backbone.layer2.3.convs.1 is upgraded to version 2.\n",
      "2022-12-01 09:51:36,749 - root - INFO - DeformConv2dPack backbone.layer2.3.convs.2 is upgraded to version 2.\n",
      "2022-12-01 09:51:36,755 - root - INFO - DeformConv2dPack backbone.layer3.0.convs.0 is upgraded to version 2.\n",
      "2022-12-01 09:51:36,756 - root - INFO - DeformConv2dPack backbone.layer3.0.convs.1 is upgraded to version 2.\n",
      "2022-12-01 09:51:36,758 - root - INFO - DeformConv2dPack backbone.layer3.0.convs.2 is upgraded to version 2.\n",
      "2022-12-01 09:51:36,763 - root - INFO - DeformConv2dPack backbone.layer3.1.convs.0 is upgraded to version 2.\n",
      "2022-12-01 09:51:36,764 - root - INFO - DeformConv2dPack backbone.layer3.1.convs.1 is upgraded to version 2.\n",
      "2022-12-01 09:51:36,765 - root - INFO - DeformConv2dPack backbone.layer3.1.convs.2 is upgraded to version 2.\n",
      "2022-12-01 09:51:36,769 - root - INFO - DeformConv2dPack backbone.layer3.2.convs.0 is upgraded to version 2.\n",
      "2022-12-01 09:51:36,771 - root - INFO - DeformConv2dPack backbone.layer3.2.convs.1 is upgraded to version 2.\n",
      "2022-12-01 09:51:36,772 - root - INFO - DeformConv2dPack backbone.layer3.2.convs.2 is upgraded to version 2.\n",
      "2022-12-01 09:51:36,778 - root - INFO - DeformConv2dPack backbone.layer3.3.convs.0 is upgraded to version 2.\n",
      "2022-12-01 09:51:36,779 - root - INFO - DeformConv2dPack backbone.layer3.3.convs.1 is upgraded to version 2.\n",
      "2022-12-01 09:51:36,780 - root - INFO - DeformConv2dPack backbone.layer3.3.convs.2 is upgraded to version 2.\n",
      "2022-12-01 09:51:36,784 - root - INFO - DeformConv2dPack backbone.layer3.4.convs.0 is upgraded to version 2.\n",
      "2022-12-01 09:51:36,786 - root - INFO - DeformConv2dPack backbone.layer3.4.convs.1 is upgraded to version 2.\n",
      "2022-12-01 09:51:36,789 - root - INFO - DeformConv2dPack backbone.layer3.4.convs.2 is upgraded to version 2.\n",
      "2022-12-01 09:51:36,794 - root - INFO - DeformConv2dPack backbone.layer3.5.convs.0 is upgraded to version 2.\n",
      "2022-12-01 09:51:36,796 - root - INFO - DeformConv2dPack backbone.layer3.5.convs.1 is upgraded to version 2.\n",
      "2022-12-01 09:51:36,800 - root - INFO - DeformConv2dPack backbone.layer3.5.convs.2 is upgraded to version 2.\n",
      "2022-12-01 09:51:36,805 - root - INFO - DeformConv2dPack backbone.layer3.6.convs.0 is upgraded to version 2.\n",
      "2022-12-01 09:51:36,807 - root - INFO - DeformConv2dPack backbone.layer3.6.convs.1 is upgraded to version 2.\n",
      "2022-12-01 09:51:36,809 - root - INFO - DeformConv2dPack backbone.layer3.6.convs.2 is upgraded to version 2.\n",
      "2022-12-01 09:51:36,814 - root - INFO - DeformConv2dPack backbone.layer3.7.convs.0 is upgraded to version 2.\n",
      "2022-12-01 09:51:36,816 - root - INFO - DeformConv2dPack backbone.layer3.7.convs.1 is upgraded to version 2.\n",
      "2022-12-01 09:51:36,818 - root - INFO - DeformConv2dPack backbone.layer3.7.convs.2 is upgraded to version 2.\n",
      "2022-12-01 09:51:36,823 - root - INFO - DeformConv2dPack backbone.layer3.8.convs.0 is upgraded to version 2.\n",
      "2022-12-01 09:51:36,825 - root - INFO - DeformConv2dPack backbone.layer3.8.convs.1 is upgraded to version 2.\n",
      "2022-12-01 09:51:36,827 - root - INFO - DeformConv2dPack backbone.layer3.8.convs.2 is upgraded to version 2.\n",
      "2022-12-01 09:51:36,832 - root - INFO - DeformConv2dPack backbone.layer3.9.convs.0 is upgraded to version 2.\n",
      "2022-12-01 09:51:36,835 - root - INFO - DeformConv2dPack backbone.layer3.9.convs.1 is upgraded to version 2.\n",
      "2022-12-01 09:51:36,837 - root - INFO - DeformConv2dPack backbone.layer3.9.convs.2 is upgraded to version 2.\n",
      "2022-12-01 09:51:36,846 - root - INFO - DeformConv2dPack backbone.layer3.10.convs.0 is upgraded to version 2.\n",
      "2022-12-01 09:51:36,848 - root - INFO - DeformConv2dPack backbone.layer3.10.convs.1 is upgraded to version 2.\n",
      "2022-12-01 09:51:36,849 - root - INFO - DeformConv2dPack backbone.layer3.10.convs.2 is upgraded to version 2.\n",
      "2022-12-01 09:51:36,855 - root - INFO - DeformConv2dPack backbone.layer3.11.convs.0 is upgraded to version 2.\n",
      "2022-12-01 09:51:36,856 - root - INFO - DeformConv2dPack backbone.layer3.11.convs.1 is upgraded to version 2.\n",
      "2022-12-01 09:51:36,857 - root - INFO - DeformConv2dPack backbone.layer3.11.convs.2 is upgraded to version 2.\n",
      "2022-12-01 09:51:36,864 - root - INFO - DeformConv2dPack backbone.layer3.12.convs.0 is upgraded to version 2.\n",
      "2022-12-01 09:51:36,868 - root - INFO - DeformConv2dPack backbone.layer3.12.convs.1 is upgraded to version 2.\n",
      "2022-12-01 09:51:36,869 - root - INFO - DeformConv2dPack backbone.layer3.12.convs.2 is upgraded to version 2.\n",
      "2022-12-01 09:51:36,874 - root - INFO - DeformConv2dPack backbone.layer3.13.convs.0 is upgraded to version 2.\n",
      "2022-12-01 09:51:36,875 - root - INFO - DeformConv2dPack backbone.layer3.13.convs.1 is upgraded to version 2.\n",
      "2022-12-01 09:51:36,876 - root - INFO - DeformConv2dPack backbone.layer3.13.convs.2 is upgraded to version 2.\n",
      "2022-12-01 09:51:36,884 - root - INFO - DeformConv2dPack backbone.layer3.14.convs.0 is upgraded to version 2.\n",
      "2022-12-01 09:51:36,885 - root - INFO - DeformConv2dPack backbone.layer3.14.convs.1 is upgraded to version 2.\n",
      "2022-12-01 09:51:36,890 - root - INFO - DeformConv2dPack backbone.layer3.14.convs.2 is upgraded to version 2.\n",
      "2022-12-01 09:51:36,894 - root - INFO - DeformConv2dPack backbone.layer3.15.convs.0 is upgraded to version 2.\n",
      "2022-12-01 09:51:36,897 - root - INFO - DeformConv2dPack backbone.layer3.15.convs.1 is upgraded to version 2.\n",
      "2022-12-01 09:51:36,899 - root - INFO - DeformConv2dPack backbone.layer3.15.convs.2 is upgraded to version 2.\n",
      "2022-12-01 09:51:36,905 - root - INFO - DeformConv2dPack backbone.layer3.16.convs.0 is upgraded to version 2.\n",
      "2022-12-01 09:51:36,906 - root - INFO - DeformConv2dPack backbone.layer3.16.convs.1 is upgraded to version 2.\n",
      "2022-12-01 09:51:36,907 - root - INFO - DeformConv2dPack backbone.layer3.16.convs.2 is upgraded to version 2.\n",
      "2022-12-01 09:51:36,912 - root - INFO - DeformConv2dPack backbone.layer3.17.convs.0 is upgraded to version 2.\n",
      "2022-12-01 09:51:36,914 - root - INFO - DeformConv2dPack backbone.layer3.17.convs.1 is upgraded to version 2.\n",
      "2022-12-01 09:51:36,919 - root - INFO - DeformConv2dPack backbone.layer3.17.convs.2 is upgraded to version 2.\n",
      "2022-12-01 09:51:36,923 - root - INFO - DeformConv2dPack backbone.layer3.18.convs.0 is upgraded to version 2.\n",
      "2022-12-01 09:51:36,924 - root - INFO - DeformConv2dPack backbone.layer3.18.convs.1 is upgraded to version 2.\n",
      "2022-12-01 09:51:36,925 - root - INFO - DeformConv2dPack backbone.layer3.18.convs.2 is upgraded to version 2.\n",
      "2022-12-01 09:51:36,930 - root - INFO - DeformConv2dPack backbone.layer3.19.convs.0 is upgraded to version 2.\n",
      "2022-12-01 09:51:36,932 - root - INFO - DeformConv2dPack backbone.layer3.19.convs.1 is upgraded to version 2.\n",
      "2022-12-01 09:51:36,933 - root - INFO - DeformConv2dPack backbone.layer3.19.convs.2 is upgraded to version 2.\n",
      "2022-12-01 09:51:36,938 - root - INFO - DeformConv2dPack backbone.layer3.20.convs.0 is upgraded to version 2.\n",
      "2022-12-01 09:51:36,939 - root - INFO - DeformConv2dPack backbone.layer3.20.convs.1 is upgraded to version 2.\n",
      "2022-12-01 09:51:36,952 - root - INFO - DeformConv2dPack backbone.layer3.20.convs.2 is upgraded to version 2.\n",
      "2022-12-01 09:51:36,958 - root - INFO - DeformConv2dPack backbone.layer3.21.convs.0 is upgraded to version 2.\n",
      "2022-12-01 09:51:36,960 - root - INFO - DeformConv2dPack backbone.layer3.21.convs.1 is upgraded to version 2.\n",
      "2022-12-01 09:51:36,961 - root - INFO - DeformConv2dPack backbone.layer3.21.convs.2 is upgraded to version 2.\n",
      "2022-12-01 09:51:36,966 - root - INFO - DeformConv2dPack backbone.layer3.22.convs.0 is upgraded to version 2.\n",
      "2022-12-01 09:51:36,968 - root - INFO - DeformConv2dPack backbone.layer3.22.convs.1 is upgraded to version 2.\n",
      "2022-12-01 09:51:36,969 - root - INFO - DeformConv2dPack backbone.layer3.22.convs.2 is upgraded to version 2.\n",
      "2022-12-01 09:51:36,977 - root - INFO - DeformConv2dPack backbone.layer4.0.convs.0 is upgraded to version 2.\n",
      "2022-12-01 09:51:36,980 - root - INFO - DeformConv2dPack backbone.layer4.0.convs.1 is upgraded to version 2.\n",
      "2022-12-01 09:51:36,981 - root - INFO - DeformConv2dPack backbone.layer4.0.convs.2 is upgraded to version 2.\n",
      "2022-12-01 09:51:36,989 - root - INFO - DeformConv2dPack backbone.layer4.1.convs.0 is upgraded to version 2.\n",
      "2022-12-01 09:51:36,991 - root - INFO - DeformConv2dPack backbone.layer4.1.convs.1 is upgraded to version 2.\n",
      "2022-12-01 09:51:36,993 - root - INFO - DeformConv2dPack backbone.layer4.1.convs.2 is upgraded to version 2.\n",
      "2022-12-01 09:51:37,003 - root - INFO - DeformConv2dPack backbone.layer4.2.convs.0 is upgraded to version 2.\n",
      "2022-12-01 09:51:37,005 - root - INFO - DeformConv2dPack backbone.layer4.2.convs.1 is upgraded to version 2.\n",
      "2022-12-01 09:51:37,006 - root - INFO - DeformConv2dPack backbone.layer4.2.convs.2 is upgraded to version 2.\n"
     ]
    }
   ],
   "source": [
    "# checkpoint path\n",
    "checkpoint_path = os.path.join(cfg.work_dir, f'{epoch}.pth')\n",
    "\n",
    "model = build_detector(cfg.model, test_cfg=cfg.get('test_cfg')) # build detector\n",
    "checkpoint = load_checkpoint(model, checkpoint_path, map_location='cpu') # ckpt load\n",
    "\n",
    "model.CLASSES = dataset.CLASSES\n",
    "model = MMDataParallel(model.cuda(), device_ids=[0])"
   ]
  },
  {
   "cell_type": "code",
   "execution_count": 5,
   "id": "c9f5c2bb",
   "metadata": {},
   "outputs": [
    {
     "name": "stdout",
     "output_type": "stream",
     "text": [
      "[>>>>>>>>>>>>>>>>>>>>>>>>>>>>>] 982/982, 7.3 task/s, elapsed: 134s, ETA:     0s"
     ]
    }
   ],
   "source": [
    "output = single_gpu_test(model, data_loader, show_score_thr=0.05) # output 계산"
   ]
  },
  {
   "cell_type": "code",
   "execution_count": 6,
   "id": "5672a0ff",
   "metadata": {},
   "outputs": [
    {
     "name": "stdout",
     "output_type": "stream",
     "text": [
      "loading annotations into memory...\n",
      "Done (t=0.02s)\n",
      "creating index...\n",
      "index created!\n"
     ]
    },
    {
     "data": {
      "text/html": [
       "<div>\n",
       "<style scoped>\n",
       "    .dataframe tbody tr th:only-of-type {\n",
       "        vertical-align: middle;\n",
       "    }\n",
       "\n",
       "    .dataframe tbody tr th {\n",
       "        vertical-align: top;\n",
       "    }\n",
       "\n",
       "    .dataframe thead th {\n",
       "        text-align: right;\n",
       "    }\n",
       "</style>\n",
       "<table border=\"1\" class=\"dataframe\">\n",
       "  <thead>\n",
       "    <tr style=\"text-align: right;\">\n",
       "      <th></th>\n",
       "      <th>PredictionString</th>\n",
       "      <th>image_id</th>\n",
       "    </tr>\n",
       "  </thead>\n",
       "  <tbody>\n",
       "    <tr>\n",
       "      <th>0</th>\n",
       "      <td>0 0.51520294 90.651955 601.1 235.21269 654.621...</td>\n",
       "      <td>train/0001.jpg</td>\n",
       "    </tr>\n",
       "    <tr>\n",
       "      <th>1</th>\n",
       "      <td>0 0.17015672 262.42953 160.39285 915.8895 681....</td>\n",
       "      <td>train/0002.jpg</td>\n",
       "    </tr>\n",
       "    <tr>\n",
       "      <th>2</th>\n",
       "      <td>0 0.330953 582.0956 0.010566406 733.63885 61.3...</td>\n",
       "      <td>train/0007.jpg</td>\n",
       "    </tr>\n",
       "    <tr>\n",
       "      <th>3</th>\n",
       "      <td>0 0.22162305 964.19037 507.52655 995.77936 530...</td>\n",
       "      <td>train/0008.jpg</td>\n",
       "    </tr>\n",
       "    <tr>\n",
       "      <th>4</th>\n",
       "      <td>0 0.9161416 377.07782 247.78685 748.0652 532.9...</td>\n",
       "      <td>train/0010.jpg</td>\n",
       "    </tr>\n",
       "  </tbody>\n",
       "</table>\n",
       "</div>"
      ],
      "text/plain": [
       "                                    PredictionString        image_id\n",
       "0  0 0.51520294 90.651955 601.1 235.21269 654.621...  train/0001.jpg\n",
       "1  0 0.17015672 262.42953 160.39285 915.8895 681....  train/0002.jpg\n",
       "2  0 0.330953 582.0956 0.010566406 733.63885 61.3...  train/0007.jpg\n",
       "3  0 0.22162305 964.19037 507.52655 995.77936 530...  train/0008.jpg\n",
       "4  0 0.9161416 377.07782 247.78685 748.0652 532.9...  train/0010.jpg"
      ]
     },
     "execution_count": 6,
     "metadata": {},
     "output_type": "execute_result"
    }
   ],
   "source": [
    "# submission 양식에 맞게 output 후처리\n",
    "prediction_strings = []\n",
    "file_names = []\n",
    "coco = COCO(cfg.data.test.ann_file)\n",
    "img_ids = coco.getImgIds()\n",
    "\n",
    "class_num = 10\n",
    "for i, out in zip(list(coco.imgs.keys()), output):\n",
    "    prediction_string = ''\n",
    "    image_info = coco.loadImgs(coco.getImgIds(imgIds=i))[0]\n",
    "    for j in range(class_num):\n",
    "        for o in out[j]:\n",
    "            prediction_string += str(j) + ' ' + str(o[4]) + ' ' + str(o[0]) + ' ' + str(o[1]) + ' ' + str(\n",
    "                o[2]) + ' ' + str(o[3]) + ' '\n",
    "        \n",
    "    prediction_strings.append(prediction_string)\n",
    "    file_names.append(image_info['file_name'])\n",
    "\n",
    "\n",
    "submission = pd.DataFrame()\n",
    "submission['PredictionString'] = prediction_strings\n",
    "submission['image_id'] = file_names\n",
    "submission.to_csv(os.path.join(cfg.work_dir, f'val_universenet.csv'), index=None)\n",
    "submission.head()"
   ]
  },
  {
   "cell_type": "code",
   "execution_count": null,
   "id": "9f93d7cd",
   "metadata": {},
   "outputs": [],
   "source": []
  }
 ],
 "metadata": {
  "kernelspec": {
   "display_name": "Python 3.7.15 ('detection')",
   "language": "python",
   "name": "python3"
  },
  "language_info": {
   "codemirror_mode": {
    "name": "ipython",
    "version": 3
   },
   "file_extension": ".py",
   "mimetype": "text/x-python",
   "name": "python",
   "nbconvert_exporter": "python",
   "pygments_lexer": "ipython3",
   "version": "3.7.15"
  },
  "vscode": {
   "interpreter": {
    "hash": "b94c6de4bce9a87a354a5fa9998691adc0532adddb9d4140f5ba941d00b01fae"
   }
  }
 },
 "nbformat": 4,
 "nbformat_minor": 5
}
